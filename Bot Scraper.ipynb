{
 "cells": [
  {
   "cell_type": "code",
   "execution_count": 4,
   "id": "526fcdb4-0d67-4158-ae54-eb25098f2552",
   "metadata": {},
   "outputs": [],
   "source": [
    "import time\n",
    "import pandas as pd\n",
    "from selenium import webdriver\n",
    "from selenium.webdriver.common.by import By\n",
    "from selenium.webdriver.support.ui import WebDriverWait\n",
    "from selenium.webdriver.support import expected_conditions as EC\n",
    "from selenium.webdriver.common.keys import Keys\n",
    "from selenium.webdriver.chrome.service import Service\n",
    "import requests "
   ]
  },
  {
   "cell_type": "code",
   "execution_count": 12,
   "id": "92e5c986-0ae4-4e39-9942-6358c6a84d59",
   "metadata": {},
   "outputs": [
    {
     "name": "stdout",
     "output_type": "stream",
     "text": [
      "{\"code\":\"REQS001\",\"detail\":\"Requests to this URL are forbidden. Contact support if this may be a problem, or try again with a different target URL.\",\"instance\":\"/v1\",\"status\":400,\"title\":\"Requests to this domain are forbidden (REQS001)\",\"type\":\"https://www.zenrows.com/documentation/api-error-codes#REQS001\"}\n"
     ]
    }
   ],
   "source": [
    "\n",
    "url = 'https://row7.vfsglobal.com/Global-Appointment/'\n",
    "apikey = 'd05dda4f953847c6ff61ce76d966dc3d70865aab'\n",
    "params = {\n",
    "    'url': url,\n",
    "    'apikey': apikey,\n",
    "}\n",
    "response = requests.get('https://api.zenrows.com/v1/', params=params)\n",
    "print(response.text)"
   ]
  },
  {
   "cell_type": "code",
   "execution_count": 10,
   "id": "f36bfb02-ee18-4753-8b59-2d6bd760cad5",
   "metadata": {},
   "outputs": [
    {
     "ename": "AttributeError",
     "evalue": "'WebDriver' object has no attribute 'content'",
     "output_type": "error",
     "traceback": [
      "\u001b[1;31m---------------------------------------------------------------------------\u001b[0m",
      "\u001b[1;31mAttributeError\u001b[0m                            Traceback (most recent call last)",
      "Cell \u001b[1;32mIn[10], line 11\u001b[0m\n\u001b[0;32m      9\u001b[0m browser \u001b[38;5;241m=\u001b[39m webdriver\u001b[38;5;241m.\u001b[39mFirefox()\n\u001b[0;32m     10\u001b[0m browser\u001b[38;5;241m.\u001b[39mget(url)\n\u001b[1;32m---> 11\u001b[0m \u001b[38;5;28mprint\u001b[39m(\u001b[43mbrowser\u001b[49m\u001b[38;5;241;43m.\u001b[39;49m\u001b[43mcontent\u001b[49m)\n",
      "\u001b[1;31mAttributeError\u001b[0m: 'WebDriver' object has no attribute 'content'"
     ]
    }
   ],
   "source": [
    "# path = r\"C:\\Users\\legend story\\OneDrive\\Desktop\\visabot-main\\chromedriver-win64\\chromedriver-win64\\chromedriver.exe\"\n",
    "# service = Service(executable_path=path) # Here\n",
    "# options = webdriver.ChromeOptions()\n",
    "# # options.add_argument(\"--headless\")\n",
    "# options.add_argument(\"--no-sandbox\")\n",
    "# # options.add_argument(user_agent)\n",
    "# browser = webdriver.Chrome(service=service,options=options) # Here\n",
    "url=url = 'https://row7.vfsglobal.com/Global-Appointment/'\n",
    "browser = webdriver.Firefox()\n",
    "browser.get(url)\n",
    "print(browser.content)"
   ]
  },
  {
   "cell_type": "code",
   "execution_count": 3,
   "id": "4e641a2b-71ff-4e58-be2b-dad3c8aefb04",
   "metadata": {},
   "outputs": [],
   "source": [
    "import os\n",
    "os.startfile(r\"C:\\Program Files\\Mozilla Firefox\\firefox.exe\")"
   ]
  },
  {
   "cell_type": "code",
   "execution_count": 2,
   "id": "88f6bb88-1bae-458a-8478-425b46745c16",
   "metadata": {},
   "outputs": [],
   "source": [
    "import tkinter as tk\n"
   ]
  },
  {
   "cell_type": "code",
   "execution_count": 3,
   "id": "096385e2-0ee9-40da-9f2c-2ad8c7a52fb4",
   "metadata": {},
   "outputs": [],
   "source": [
    "import pyautogui\n",
    "pyautogui.moveTo(100, 100, duration = 1)"
   ]
  },
  {
   "cell_type": "code",
   "execution_count": null,
   "id": "d4d244f1-2c71-43b8-ba8d-2280c50c4c29",
   "metadata": {},
   "outputs": [],
   "source": []
  }
 ],
 "metadata": {
  "kernelspec": {
   "display_name": "Python 3 (ipykernel)",
   "language": "python",
   "name": "python3"
  },
  "language_info": {
   "codemirror_mode": {
    "name": "ipython",
    "version": 3
   },
   "file_extension": ".py",
   "mimetype": "text/x-python",
   "name": "python",
   "nbconvert_exporter": "python",
   "pygments_lexer": "ipython3",
   "version": "3.11.5"
  }
 },
 "nbformat": 4,
 "nbformat_minor": 5
}
